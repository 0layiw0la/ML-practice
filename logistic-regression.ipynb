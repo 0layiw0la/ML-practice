{
 "cells": [
  {
   "cell_type": "code",
   "execution_count": 1,
   "id": "c5c1956b",
   "metadata": {
    "_cell_guid": "b1076dfc-b9ad-4769-8c92-a6c4dae69d19",
    "_uuid": "8f2839f25d086af736a60e9eeb907d3b93b6e0e5",
    "execution": {
     "iopub.execute_input": "2023-10-19T19:27:04.308917Z",
     "iopub.status.busy": "2023-10-19T19:27:04.308408Z",
     "iopub.status.idle": "2023-10-19T19:27:06.888818Z",
     "shell.execute_reply": "2023-10-19T19:27:06.887374Z"
    },
    "papermill": {
     "duration": 2.591071,
     "end_time": "2023-10-19T19:27:06.891484",
     "exception": false,
     "start_time": "2023-10-19T19:27:04.300413",
     "status": "completed"
    },
    "tags": []
   },
   "outputs": [
    {
     "name": "stdout",
     "output_type": "stream",
     "text": [
      "/kaggle/input/titanic/train.csv\n",
      "/kaggle/input/titanic/test.csv\n",
      "/kaggle/input/titanic/gender_submission.csv\n"
     ]
    }
   ],
   "source": [
    "# This Python 3 environment comes with many helpful analytics libraries installed\n",
    "# It is defined by the kaggle/python Docker image: https://github.com/kaggle/docker-python\n",
    "# For example, here's several helpful packages to load\n",
    "\n",
    "import numpy as np # linear algebra\n",
    "import pandas as pd # data processing, CSV file I/O (e.g. pd.read_csv)\n",
    "import seaborn as sns\n",
    "from sklearn.model_selection import train_test_split\n",
    "from sklearn import metrics\n",
    "import matplotlib.pyplot as plt\n",
    "from sklearn.datasets import load_digits\n",
    "from sklearn.linear_model import LogisticRegression\n",
    "# Input data files are available in the read-only \"../input/\" directory\n",
    "# For example, running this (by clicking run or pressing Shift+Enter) will list all files under the input directory\n",
    "\n",
    "import os\n",
    "for dirname, _, filenames in os.walk('/kaggle/input'):\n",
    "    for filename in filenames:\n",
    "        print(os.path.join(dirname, filename))\n",
    "\n",
    "# You can write up to 20GB to the current directory (/kaggle/working/) that gets preserved as output when you create a version using \"Save & Run All\" \n",
    "# You can also write temporary files to /kaggle/temp/, but they won't be saved outside of the current session"
   ]
  },
  {
   "cell_type": "code",
   "execution_count": 2,
   "id": "350aff27",
   "metadata": {
    "execution": {
     "iopub.execute_input": "2023-10-19T19:27:06.903003Z",
     "iopub.status.busy": "2023-10-19T19:27:06.902288Z",
     "iopub.status.idle": "2023-10-19T19:27:06.925354Z",
     "shell.execute_reply": "2023-10-19T19:27:06.924209Z"
    },
    "papermill": {
     "duration": 0.030715,
     "end_time": "2023-10-19T19:27:06.928115",
     "exception": false,
     "start_time": "2023-10-19T19:27:06.897400",
     "status": "completed"
    },
    "tags": []
   },
   "outputs": [],
   "source": [
    "digits = load_digits()"
   ]
  },
  {
   "cell_type": "code",
   "execution_count": 3,
   "id": "23fcc4c9",
   "metadata": {
    "execution": {
     "iopub.execute_input": "2023-10-19T19:27:06.936567Z",
     "iopub.status.busy": "2023-10-19T19:27:06.935959Z",
     "iopub.status.idle": "2023-10-19T19:27:06.943514Z",
     "shell.execute_reply": "2023-10-19T19:27:06.942666Z"
    },
    "papermill": {
     "duration": 0.014055,
     "end_time": "2023-10-19T19:27:06.945476",
     "exception": false,
     "start_time": "2023-10-19T19:27:06.931421",
     "status": "completed"
    },
    "tags": []
   },
   "outputs": [
    {
     "data": {
      "text/plain": [
       "(1797,)"
      ]
     },
     "execution_count": 3,
     "metadata": {},
     "output_type": "execute_result"
    }
   ],
   "source": [
    "digits.target.shape"
   ]
  },
  {
   "cell_type": "code",
   "execution_count": 4,
   "id": "adf34978",
   "metadata": {
    "execution": {
     "iopub.execute_input": "2023-10-19T19:27:06.954887Z",
     "iopub.status.busy": "2023-10-19T19:27:06.953600Z",
     "iopub.status.idle": "2023-10-19T19:27:07.755247Z",
     "shell.execute_reply": "2023-10-19T19:27:07.754411Z"
    },
    "papermill": {
     "duration": 0.80842,
     "end_time": "2023-10-19T19:27:07.757236",
     "exception": false,
     "start_time": "2023-10-19T19:27:06.948816",
     "status": "completed"
    },
    "tags": []
   },
   "outputs": [
    {
     "data": {
      "image/png": "[encoded data removed]",
      "text/plain": [
       "<Figure size 640x480 with 5 Axes>"
      ]
     },
     "metadata": {},
     "output_type": "display_data"
    }
   ],
   "source": [
    "fig, axes = plt.subplots(1, 5)\n",
    "\n",
    "# Loop through the first 5 images and labels\n",
    "for index, (image, label) in enumerate(zip(digits.images[:5], digits.target[:5])):\n",
    "    # Display the image in a subplot\n",
    "    axes[index].imshow(image, cmap=plt.cm.gray)\n",
    "    axes[index].set_title(f\"Label: {label}\")\n",
    "\n",
    "# Adjust subplot layout and display\n",
    "plt.tight_layout()\n",
    "plt.show()"
   ]
  },
  {
   "cell_type": "code",
   "execution_count": 5,
   "id": "ac648ce0",
   "metadata": {
    "execution": {
     "iopub.execute_input": "2023-10-19T19:27:07.766750Z",
     "iopub.status.busy": "2023-10-19T19:27:07.765686Z",
     "iopub.status.idle": "2023-10-19T19:27:07.773791Z",
     "shell.execute_reply": "2023-10-19T19:27:07.772638Z"
    },
    "papermill": {
     "duration": 0.015362,
     "end_time": "2023-10-19T19:27:07.776354",
     "exception": false,
     "start_time": "2023-10-19T19:27:07.760992",
     "status": "completed"
    },
    "tags": []
   },
   "outputs": [],
   "source": [
    "x_train,x_test,y_train,y_test = train_test_split(digits.data,digits.target,test_size = 0.25,random_state=0)"
   ]
  },
  {
   "cell_type": "code",
   "execution_count": 6,
   "id": "b5f78d42",
   "metadata": {
    "execution": {
     "iopub.execute_input": "2023-10-19T19:27:07.785866Z",
     "iopub.status.busy": "2023-10-19T19:27:07.784792Z",
     "iopub.status.idle": "2023-10-19T19:27:07.790529Z",
     "shell.execute_reply": "2023-10-19T19:27:07.789810Z"
    },
    "papermill": {
     "duration": 0.012369,
     "end_time": "2023-10-19T19:27:07.792385",
     "exception": false,
     "start_time": "2023-10-19T19:27:07.780016",
     "status": "completed"
    },
    "tags": []
   },
   "outputs": [
    {
     "data": {
      "text/plain": [
       "(1347, 64)"
      ]
     },
     "execution_count": 6,
     "metadata": {},
     "output_type": "execute_result"
    }
   ],
   "source": [
    "x_train.shape"
   ]
  },
  {
   "cell_type": "code",
   "execution_count": 7,
   "id": "1fe3c7a3",
   "metadata": {
    "execution": {
     "iopub.execute_input": "2023-10-19T19:27:07.802323Z",
     "iopub.status.busy": "2023-10-19T19:27:07.801555Z",
     "iopub.status.idle": "2023-10-19T19:27:11.425440Z",
     "shell.execute_reply": "2023-10-19T19:27:11.423735Z"
    },
    "papermill": {
     "duration": 3.633058,
     "end_time": "2023-10-19T19:27:11.429535",
     "exception": false,
     "start_time": "2023-10-19T19:27:07.796477",
     "status": "completed"
    },
    "tags": []
   },
   "outputs": [
    {
     "data": {
      "text/html": [
       "<style>#sk-container-id-1 {color: black;background-color: white;}#sk-container-id-1 pre{padding: 0;}#sk-container-id-1 div.sk-toggleable {background-color: white;}#sk-container-id-1 label.sk-toggleable__label {cursor: pointer;display: block;width: 100%;margin-bottom: 0;padding: 0.3em;box-sizing: border-box;text-align: center;}#sk-container-id-1 label.sk-toggleable__label-arrow:before {content: \"▸\";float: left;margin-right: 0.25em;color: #696969;}#sk-container-id-1 label.sk-toggleable__label-arrow:hover:before {color: black;}#sk-container-id-1 div.sk-estimator:hover label.sk-toggleable__label-arrow:before {color: black;}#sk-container-id-1 div.sk-toggleable__content {max-height: 0;max-width: 0;overflow: hidden;text-align: left;background-color: #f0f8ff;}#sk-container-id-1 div.sk-toggleable__content pre {margin: 0.2em;color: black;border-radius: 0.25em;background-color: #f0f8ff;}#sk-container-id-1 input.sk-toggleable__control:checked~div.sk-toggleable__content {max-height: 200px;max-width: 100%;overflow: auto;}#sk-container-id-1 input.sk-toggleable__control:checked~label.sk-toggleable__label-arrow:before {content: \"▾\";}#sk-container-id-1 div.sk-estimator input.sk-toggleable__control:checked~label.sk-toggleable__label {background-color: #d4ebff;}#sk-container-id-1 div.sk-label input.sk-toggleable__control:checked~label.sk-toggleable__label {background-color: #d4ebff;}#sk-container-id-1 input.sk-hidden--visually {border: 0;clip: rect(1px 1px 1px 1px);clip: rect(1px, 1px, 1px, 1px);height: 1px;margin: -1px;overflow: hidden;padding: 0;position: absolute;width: 1px;}#sk-container-id-1 div.sk-estimator {font-family: monospace;background-color: #f0f8ff;border: 1px dotted black;border-radius: 0.25em;box-sizing: border-box;margin-bottom: 0.5em;}#sk-container-id-1 div.sk-estimator:hover {background-color: #d4ebff;}#sk-container-id-1 div.sk-parallel-item::after {content: \"\";width: 100%;border-bottom: 1px solid gray;flex-grow: 1;}#sk-container-id-1 div.sk-label:hover label.sk-toggleable__label {background-color: #d4ebff;}#sk-container-id-1 div.sk-serial::before {content: \"\";position: absolute;border-left: 1px solid gray;box-sizing: border-box;top: 0;bottom: 0;left: 50%;z-index: 0;}#sk-container-id-1 div.sk-serial {display: flex;flex-direction: column;align-items: center;background-color: white;padding-right: 0.2em;padding-left: 0.2em;position: relative;}#sk-container-id-1 div.sk-item {position: relative;z-index: 1;}#sk-container-id-1 div.sk-parallel {display: flex;align-items: stretch;justify-content: center;background-color: white;position: relative;}#sk-container-id-1 div.sk-item::before, #sk-container-id-1 div.sk-parallel-item::before {content: \"\";position: absolute;border-left: 1px solid gray;box-sizing: border-box;top: 0;bottom: 0;left: 50%;z-index: -1;}#sk-container-id-1 div.sk-parallel-item {display: flex;flex-direction: column;z-index: 1;position: relative;background-color: white;}#sk-container-id-1 div.sk-parallel-item:first-child::after {align-self: flex-end;width: 50%;}#sk-container-id-1 div.sk-parallel-item:last-child::after {align-self: flex-start;width: 50%;}#sk-container-id-1 div.sk-parallel-item:only-child::after {width: 0;}#sk-container-id-1 div.sk-dashed-wrapped {border: 1px dashed gray;margin: 0 0.4em 0.5em 0.4em;box-sizing: border-box;padding-bottom: 0.4em;background-color: white;}#sk-container-id-1 div.sk-label label {font-family: monospace;font-weight: bold;display: inline-block;line-height: 1.2em;}#sk-container-id-1 div.sk-label-container {text-align: center;}#sk-container-id-1 div.sk-container {/* jupyter's `normalize.less` sets `[hidden] { display: none; }` but bootstrap.min.css set `[hidden] { display: none !important; }` so we also need the `!important` here to be able to override the default hidden behavior on the sphinx rendered scikit-learn.org. See: https://github.com/scikit-learn/scikit-learn/issues/21755 */display: inline-block !important;position: relative;}#sk-container-id-1 div.sk-text-repr-fallback {display: none;}</style><div id=\"sk-container-id-1\" class=\"sk-top-container\"><div class=\"sk-text-repr-fallback\"><pre>LogisticRegression(max_iter=2000)</pre><b>In a Jupyter environment, please rerun this cell to show the HTML representation or trust the notebook. <br />On GitHub, the HTML representation is unable to render, please try loading this page with nbviewer.org.</b></div><div class=\"sk-container\" hidden><div class=\"sk-item\"><div class=\"sk-estimator sk-toggleable\"><input class=\"sk-toggleable__control sk-hidden--visually\" id=\"sk-estimator-id-1\" type=\"checkbox\" checked><label for=\"sk-estimator-id-1\" class=\"sk-toggleable__label sk-toggleable__label-arrow\">LogisticRegression</label><div class=\"sk-toggleable__content\"><pre>LogisticRegression(max_iter=2000)</pre></div></div></div></div></div>"
      ],
      "text/plain": [
       "LogisticRegression(max_iter=2000)"
      ]
     },
     "execution_count": 7,
     "metadata": {},
     "output_type": "execute_result"
    }
   ],
   "source": [
    "Loreg = LogisticRegression(max_iter=2000)\n",
    "Loreg.fit(x_train,y_train)"
   ]
  },
  {
   "cell_type": "code",
   "execution_count": 8,
   "id": "94701a07",
   "metadata": {
    "execution": {
     "iopub.execute_input": "2023-10-19T19:27:11.452013Z",
     "iopub.status.busy": "2023-10-19T19:27:11.451214Z",
     "iopub.status.idle": "2023-10-19T19:27:11.462354Z",
     "shell.execute_reply": "2023-10-19T19:27:11.460810Z"
    },
    "papermill": {
     "duration": 0.026555,
     "end_time": "2023-10-19T19:27:11.466280",
     "exception": false,
     "start_time": "2023-10-19T19:27:11.439725",
     "status": "completed"
    },
    "tags": []
   },
   "outputs": [],
   "source": [
    "predictions = Loreg.predict(x_test)"
   ]
  },
  {
   "cell_type": "code",
   "execution_count": 9,
   "id": "6501f615",
   "metadata": {
    "execution": {
     "iopub.execute_input": "2023-10-19T19:27:11.488960Z",
     "iopub.status.busy": "2023-10-19T19:27:11.488204Z",
     "iopub.status.idle": "2023-10-19T19:27:11.499381Z",
     "shell.execute_reply": "2023-10-19T19:27:11.497990Z"
    },
    "papermill": {
     "duration": 0.029063,
     "end_time": "2023-10-19T19:27:11.504878",
     "exception": false,
     "start_time": "2023-10-19T19:27:11.475815",
     "status": "completed"
    },
    "tags": []
   },
   "outputs": [
    {
     "name": "stdout",
     "output_type": "stream",
     "text": [
      "[[37  0  0  0  0  0  0  0  0  0]\n",
      " [ 0 40  0  0  0  0  0  0  2  1]\n",
      " [ 0  0 41  3  0  0  0  0  0  0]\n",
      " [ 0  0  0 44  0  0  0  0  1  0]\n",
      " [ 0  0  0  0 37  0  0  1  0  0]\n",
      " [ 0  0  0  0  0 46  0  0  0  2]\n",
      " [ 0  1  0  0  0  0 51  0  0  0]\n",
      " [ 0  0  0  1  1  0  0 46  0  0]\n",
      " [ 0  3  1  0  0  0  1  0 43  0]\n",
      " [ 0  0  0  0  0  1  0  0  2 44]]\n"
     ]
    }
   ],
   "source": [
    "cm = metrics.confusion_matrix(y_test,predictions)\n",
    "print(cm)"
   ]
  },
  {
   "cell_type": "code",
   "execution_count": 10,
   "id": "78483f3c",
   "metadata": {
    "execution": {
     "iopub.execute_input": "2023-10-19T19:27:11.527784Z",
     "iopub.status.busy": "2023-10-19T19:27:11.527024Z",
     "iopub.status.idle": "2023-10-19T19:27:12.121885Z",
     "shell.execute_reply": "2023-10-19T19:27:12.120978Z"
    },
    "papermill": {
     "duration": 0.608757,
     "end_time": "2023-10-19T19:27:12.123994",
     "exception": false,
     "start_time": "2023-10-19T19:27:11.515237",
     "status": "completed"
    },
    "tags": []
   },
   "outputs": [
    {
     "data": {
      "text/plain": [
       "<Axes: >"
      ]
     },
     "execution_count": 10,
     "metadata": {},
     "output_type": "execute_result"
    },
    {
     "data": {
      "image/png": "[encoded data removed]",
      "text/plain": [
       "<Figure size 640x480 with 2 Axes>"
      ]
     },
     "metadata": {},
     "output_type": "display_data"
    }
   ],
   "source": [
    "sns.heatmap(cm,annot=True)"
   ]
  },
  {
   "cell_type": "code",
   "execution_count": 11,
   "id": "5d946caf",
   "metadata": {
    "execution": {
     "iopub.execute_input": "2023-10-19T19:27:12.135300Z",
     "iopub.status.busy": "2023-10-19T19:27:12.134029Z",
     "iopub.status.idle": "2023-10-19T19:27:12.144779Z",
     "shell.execute_reply": "2023-10-19T19:27:12.143052Z"
    },
    "papermill": {
     "duration": 0.021467,
     "end_time": "2023-10-19T19:27:12.149779",
     "exception": false,
     "start_time": "2023-10-19T19:27:12.128312",
     "status": "completed"
    },
    "tags": []
   },
   "outputs": [
    {
     "name": "stdout",
     "output_type": "stream",
     "text": [
      "0.9533333333333334\n"
     ]
    }
   ],
   "source": [
    "score = Loreg.score(x_test,y_test)\n",
    "print(score)"
   ]
  }
 ],
 "metadata": {
  "kernelspec": {
   "display_name": "Python 3",
   "language": "python",
   "name": "python3"
  },
  "language_info": {
   "codemirror_mode": {
    "name": "ipython",
    "version": 3
   },
   "file_extension": ".py",
   "mimetype": "text/x-python",
   "name": "python",
   "nbconvert_exporter": "python",
   "pygments_lexer": "ipython3",
   "version": "3.10.12"
  },
  "papermill": {
   "default_parameters": {},
   "duration": 12.096285,
   "end_time": "2023-10-19T19:27:13.097276",
   "environment_variables": {},
   "exception": null,
   "input_path": "__notebook__.ipynb",
   "output_path": "__notebook__.ipynb",
   "parameters": {},
   "start_time": "2023-10-19T19:27:01.000991",
   "version": "2.4.0"
  }
 },
 "nbformat": 4,
 "nbformat_minor": 5
}
