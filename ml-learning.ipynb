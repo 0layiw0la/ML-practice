{
 "cells": [
  {
   "cell_type": "code",
   "execution_count": 1,
   "id": "b4104942",
   "metadata": {
    "_cell_guid": "b1076dfc-b9ad-4769-8c92-a6c4dae69d19",
    "_uuid": "8f2839f25d086af736a60e9eeb907d3b93b6e0e5",
    "execution": {
     "iopub.execute_input": "2023-10-18T23:49:24.342177Z",
     "iopub.status.busy": "2023-10-18T23:49:24.341828Z",
     "iopub.status.idle": "2023-10-18T23:49:26.506987Z",
     "shell.execute_reply": "2023-10-18T23:49:26.505542Z"
    },
    "papermill": {
     "duration": 2.172049,
     "end_time": "2023-10-18T23:49:26.509239",
     "exception": false,
     "start_time": "2023-10-18T23:49:24.337190",
     "status": "completed"
    },
    "tags": []
   },
   "outputs": [
    {
     "name": "stdout",
     "output_type": "stream",
     "text": [
      "/kaggle/input/1000-companies-simplilearn/1000_Companies.csv\n"
     ]
    }
   ],
   "source": [
    "# This Python 3 environment comes with many helpful analytics libraries installed\n",
    "# It is defined by the kaggle/python Docker image: https://github.com/kaggle/docker-python\n",
    "# For example, here's several helpful packages to load\n",
    "\n",
    "import numpy as np # linear algebra\n",
    "import pandas as pd # data processing, CSV file I/O (e.g. pd.read_csv)\n",
    "import seaborn as sns\n",
    "import matplotlib.pyplot as plt\n",
    "\n",
    "# Input data files are available in the read-only \"../input/\" directory\n",
    "# For example, running this (by clicking run or pressing Shift+Enter) will list all files under the input directory\n",
    "\n",
    "import os\n",
    "for dirname, _, filenames in os.walk('/kaggle/input'):\n",
    "    for filename in filenames:\n",
    "        print(os.path.join(dirname, filename))\n",
    "\n",
    "# You can write up to 20GB to the current directory (/kaggle/working/) that gets preserved as output when you create a version using \"Save & Run All\" \n",
    "# You can also write temporary files to /kaggle/temp/, but they won't be saved outside of the current session"
   ]
  },
  {
   "cell_type": "markdown",
   "id": "0124206d",
   "metadata": {
    "papermill": {
     "duration": 0.001808,
     "end_time": "2023-10-18T23:49:26.515319",
     "exception": false,
     "start_time": "2023-10-18T23:49:26.513511",
     "status": "completed"
    },
    "tags": []
   },
   "source": [
    "## Loading the data"
   ]
  },
  {
   "cell_type": "code",
   "execution_count": 2,
   "id": "91b916c8",
   "metadata": {
    "execution": {
     "iopub.execute_input": "2023-10-18T23:49:26.521804Z",
     "iopub.status.busy": "2023-10-18T23:49:26.520464Z",
     "iopub.status.idle": "2023-10-18T23:49:26.566617Z",
     "shell.execute_reply": "2023-10-18T23:49:26.565797Z"
    },
    "papermill": {
     "duration": 0.051306,
     "end_time": "2023-10-18T23:49:26.568550",
     "exception": false,
     "start_time": "2023-10-18T23:49:26.517244",
     "status": "completed"
    },
    "tags": []
   },
   "outputs": [
    {
     "data": {
      "text/html": [
       "<div>\n",
       "<style scoped>\n",
       "    .dataframe tbody tr th:only-of-type {\n",
       "        vertical-align: middle;\n",
       "    }\n",
       "\n",
       "    .dataframe tbody tr th {\n",
       "        vertical-align: top;\n",
       "    }\n",
       "\n",
       "    .dataframe thead th {\n",
       "        text-align: right;\n",
       "    }\n",
       "</style>\n",
       "<table border=\"1\" class=\"dataframe\">\n",
       "  <thead>\n",
       "    <tr style=\"text-align: right;\">\n",
       "      <th></th>\n",
       "      <th>R&amp;D Spend</th>\n",
       "      <th>Administration</th>\n",
       "      <th>Marketing Spend</th>\n",
       "      <th>State</th>\n",
       "      <th>Profit</th>\n",
       "    </tr>\n",
       "  </thead>\n",
       "  <tbody>\n",
       "    <tr>\n",
       "      <th>0</th>\n",
       "      <td>165349.20</td>\n",
       "      <td>136897.80</td>\n",
       "      <td>471784.10</td>\n",
       "      <td>New York</td>\n",
       "      <td>192261.83</td>\n",
       "    </tr>\n",
       "    <tr>\n",
       "      <th>1</th>\n",
       "      <td>162597.70</td>\n",
       "      <td>151377.59</td>\n",
       "      <td>443898.53</td>\n",
       "      <td>California</td>\n",
       "      <td>191792.06</td>\n",
       "    </tr>\n",
       "    <tr>\n",
       "      <th>2</th>\n",
       "      <td>153441.51</td>\n",
       "      <td>101145.55</td>\n",
       "      <td>407934.54</td>\n",
       "      <td>Florida</td>\n",
       "      <td>191050.39</td>\n",
       "    </tr>\n",
       "    <tr>\n",
       "      <th>3</th>\n",
       "      <td>144372.41</td>\n",
       "      <td>118671.85</td>\n",
       "      <td>383199.62</td>\n",
       "      <td>New York</td>\n",
       "      <td>182901.99</td>\n",
       "    </tr>\n",
       "    <tr>\n",
       "      <th>4</th>\n",
       "      <td>142107.34</td>\n",
       "      <td>91391.77</td>\n",
       "      <td>366168.42</td>\n",
       "      <td>Florida</td>\n",
       "      <td>166187.94</td>\n",
       "    </tr>\n",
       "  </tbody>\n",
       "</table>\n",
       "</div>"
      ],
      "text/plain": [
       "   R&D Spend  Administration  Marketing Spend       State     Profit\n",
       "0  165349.20       136897.80        471784.10    New York  192261.83\n",
       "1  162597.70       151377.59        443898.53  California  191792.06\n",
       "2  153441.51       101145.55        407934.54     Florida  191050.39\n",
       "3  144372.41       118671.85        383199.62    New York  182901.99\n",
       "4  142107.34        91391.77        366168.42     Florida  166187.94"
      ]
     },
     "execution_count": 2,
     "metadata": {},
     "output_type": "execute_result"
    }
   ],
   "source": [
    "companies = pd.read_csv(r\"/kaggle/input/1000-companies-simplilearn/1000_Companies.csv\")\n",
    "companies.head()"
   ]
  },
  {
   "cell_type": "markdown",
   "id": "602d20ab",
   "metadata": {
    "papermill": {
     "duration": 0.002029,
     "end_time": "2023-10-18T23:49:26.573031",
     "exception": false,
     "start_time": "2023-10-18T23:49:26.571002",
     "status": "completed"
    },
    "tags": []
   },
   "source": [
    "## Split into predictors and response"
   ]
  },
  {
   "cell_type": "code",
   "execution_count": 3,
   "id": "3ba5b9ba",
   "metadata": {
    "execution": {
     "iopub.execute_input": "2023-10-18T23:49:26.579776Z",
     "iopub.status.busy": "2023-10-18T23:49:26.579046Z",
     "iopub.status.idle": "2023-10-18T23:49:26.589017Z",
     "shell.execute_reply": "2023-10-18T23:49:26.587468Z"
    },
    "papermill": {
     "duration": 0.016377,
     "end_time": "2023-10-18T23:49:26.591568",
     "exception": false,
     "start_time": "2023-10-18T23:49:26.575191",
     "status": "completed"
    },
    "tags": []
   },
   "outputs": [],
   "source": [
    "x = companies.iloc[:, :-1].values\n",
    "y = companies.iloc[:,4].values"
   ]
  },
  {
   "cell_type": "code",
   "execution_count": 4,
   "id": "2f4d1376",
   "metadata": {
    "execution": {
     "iopub.execute_input": "2023-10-18T23:49:26.598294Z",
     "iopub.status.busy": "2023-10-18T23:49:26.597946Z",
     "iopub.status.idle": "2023-10-18T23:49:26.604065Z",
     "shell.execute_reply": "2023-10-18T23:49:26.602707Z"
    },
    "papermill": {
     "duration": 0.012713,
     "end_time": "2023-10-18T23:49:26.606905",
     "exception": false,
     "start_time": "2023-10-18T23:49:26.594192",
     "status": "completed"
    },
    "tags": []
   },
   "outputs": [
    {
     "name": "stdout",
     "output_type": "stream",
     "text": [
      "[[165349.2 136897.8 471784.1 'New York']\n",
      " [162597.7 151377.59 443898.53 'California']\n",
      " [153441.51 101145.55 407934.54 'Florida']\n",
      " ...\n",
      " [100275.47 241926.31 227142.82 'California']\n",
      " [128456.23 321652.14 281692.32 'California']\n",
      " [161181.72 270939.86 295442.17 'New York']]\n"
     ]
    }
   ],
   "source": [
    "print(x)"
   ]
  }
 ],
 "metadata": {
  "kernelspec": {
   "display_name": "Python 3",
   "language": "python",
   "name": "python3"
  },
  "language_info": {
   "codemirror_mode": {
    "name": "ipython",
    "version": 3
   },
   "file_extension": ".py",
   "mimetype": "text/x-python",
   "name": "python",
   "nbconvert_exporter": "python",
   "pygments_lexer": "ipython3",
   "version": "3.10.12"
  },
  "papermill": {
   "default_parameters": {},
   "duration": 6.583662,
   "end_time": "2023-10-18T23:49:27.332016",
   "environment_variables": {},
   "exception": null,
   "input_path": "__notebook__.ipynb",
   "output_path": "__notebook__.ipynb",
   "parameters": {},
   "start_time": "2023-10-18T23:49:20.748354",
   "version": "2.4.0"
  }
 },
 "nbformat": 4,
 "nbformat_minor": 5
}
