{
 "cells": [
  {
   "cell_type": "code",
   "execution_count": 1,
   "id": "bbf020f7",
   "metadata": {
    "_cell_guid": "b1076dfc-b9ad-4769-8c92-a6c4dae69d19",
    "_uuid": "8f2839f25d086af736a60e9eeb907d3b93b6e0e5",
    "execution": {
     "iopub.execute_input": "2023-10-20T15:04:08.935450Z",
     "iopub.status.busy": "2023-10-20T15:04:08.935075Z",
     "iopub.status.idle": "2023-10-20T15:04:11.533881Z",
     "shell.execute_reply": "2023-10-20T15:04:11.532377Z"
    },
    "papermill": {
     "duration": 2.607941,
     "end_time": "2023-10-20T15:04:11.536631",
     "exception": false,
     "start_time": "2023-10-20T15:04:08.928690",
     "status": "completed"
    },
    "tags": []
   },
   "outputs": [
    {
     "name": "stdout",
     "output_type": "stream",
     "text": [
      "/kaggle/input/titanic/train.csv\n",
      "/kaggle/input/titanic/test.csv\n",
      "/kaggle/input/titanic/gender_submission.csv\n"
     ]
    }
   ],
   "source": [
    "# This Python 3 environment comes with many helpful analytics libraries installed\n",
    "# It is defined by the kaggle/python Docker image: https://github.com/kaggle/docker-python\n",
    "# For example, here's several helpful packages to load\n",
    "\n",
    "import numpy as np # linear algebra\n",
    "import pandas as pd # data processing, CSV file I/O (e.g. pd.read_csv)\n",
    "import seaborn as sns\n",
    "from sklearn.model_selection import train_test_split\n",
    "from sklearn import metrics\n",
    "import matplotlib.pyplot as plt\n",
    "from sklearn.datasets import load_digits\n",
    "from sklearn.linear_model import LogisticRegression\n",
    "# Input data files are available in the read-only \"../input/\" directory\n",
    "# For example, running this (by clicking run or pressing Shift+Enter) will list all files under the input directory\n",
    "\n",
    "import os\n",
    "for dirname, _, filenames in os.walk('/kaggle/input'):\n",
    "    for filename in filenames:\n",
    "        print(os.path.join(dirname, filename))\n",
    "\n",
    "# You can write up to 20GB to the current directory (/kaggle/working/) that gets preserved as output when you create a version using \"Save & Run All\" \n",
    "# You can also write temporary files to /kaggle/temp/, but they won't be saved outside of the current session"
   ]
  },
  {
   "cell_type": "code",
   "execution_count": 2,
   "id": "1255197f",
   "metadata": {
    "execution": {
     "iopub.execute_input": "2023-10-20T15:04:11.549041Z",
     "iopub.status.busy": "2023-10-20T15:04:11.548464Z",
     "iopub.status.idle": "2023-10-20T15:04:11.572926Z",
     "shell.execute_reply": "2023-10-20T15:04:11.571568Z"
    },
    "papermill": {
     "duration": 0.032577,
     "end_time": "2023-10-20T15:04:11.575748",
     "exception": false,
     "start_time": "2023-10-20T15:04:11.543171",
     "status": "completed"
    },
    "tags": []
   },
   "outputs": [],
   "source": [
    "titanic = pd.read_csv(r\"/kaggle/input/titanic/train.csv\")"
   ]
  },
  {
   "cell_type": "code",
   "execution_count": 3,
   "id": "fe38a410",
   "metadata": {
    "execution": {
     "iopub.execute_input": "2023-10-20T15:04:11.586205Z",
     "iopub.status.busy": "2023-10-20T15:04:11.585664Z",
     "iopub.status.idle": "2023-10-20T15:04:11.616277Z",
     "shell.execute_reply": "2023-10-20T15:04:11.614743Z"
    },
    "papermill": {
     "duration": 0.039443,
     "end_time": "2023-10-20T15:04:11.619085",
     "exception": false,
     "start_time": "2023-10-20T15:04:11.579642",
     "status": "completed"
    },
    "tags": []
   },
   "outputs": [],
   "source": [
    "titanic = titanic.drop(['Name','Ticket'],axis=1)\n",
    "y = titanic[\"Survived\"]"
   ]
  },
  {
   "cell_type": "code",
   "execution_count": 4,
   "id": "b5401fc4",
   "metadata": {
    "execution": {
     "iopub.execute_input": "2023-10-20T15:04:11.629401Z",
     "iopub.status.busy": "2023-10-20T15:04:11.628954Z",
     "iopub.status.idle": "2023-10-20T15:04:11.644211Z",
     "shell.execute_reply": "2023-10-20T15:04:11.642695Z"
    },
    "papermill": {
     "duration": 0.023529,
     "end_time": "2023-10-20T15:04:11.646862",
     "exception": false,
     "start_time": "2023-10-20T15:04:11.623333",
     "status": "completed"
    },
    "tags": []
   },
   "outputs": [],
   "source": [
    "feat = ['Pclass','Sex','Fare','Embarked','SibSp','Parch']\n",
    "x = pd.get_dummies(titanic[feat])"
   ]
  },
  {
   "cell_type": "code",
   "execution_count": 5,
   "id": "04a5936f",
   "metadata": {
    "execution": {
     "iopub.execute_input": "2023-10-20T15:04:11.656896Z",
     "iopub.status.busy": "2023-10-20T15:04:11.656433Z",
     "iopub.status.idle": "2023-10-20T15:04:11.676567Z",
     "shell.execute_reply": "2023-10-20T15:04:11.675239Z"
    },
    "papermill": {
     "duration": 0.028336,
     "end_time": "2023-10-20T15:04:11.679209",
     "exception": false,
     "start_time": "2023-10-20T15:04:11.650873",
     "status": "completed"
    },
    "tags": []
   },
   "outputs": [
    {
     "data": {
      "text/html": [
       "<div>\n",
       "<style scoped>\n",
       "    .dataframe tbody tr th:only-of-type {\n",
       "        vertical-align: middle;\n",
       "    }\n",
       "\n",
       "    .dataframe tbody tr th {\n",
       "        vertical-align: top;\n",
       "    }\n",
       "\n",
       "    .dataframe thead th {\n",
       "        text-align: right;\n",
       "    }\n",
       "</style>\n",
       "<table border=\"1\" class=\"dataframe\">\n",
       "  <thead>\n",
       "    <tr style=\"text-align: right;\">\n",
       "      <th></th>\n",
       "      <th>Pclass</th>\n",
       "      <th>Fare</th>\n",
       "      <th>SibSp</th>\n",
       "      <th>Parch</th>\n",
       "      <th>Sex_female</th>\n",
       "      <th>Sex_male</th>\n",
       "      <th>Embarked_C</th>\n",
       "      <th>Embarked_Q</th>\n",
       "      <th>Embarked_S</th>\n",
       "    </tr>\n",
       "  </thead>\n",
       "  <tbody>\n",
       "    <tr>\n",
       "      <th>0</th>\n",
       "      <td>3</td>\n",
       "      <td>7.2500</td>\n",
       "      <td>1</td>\n",
       "      <td>0</td>\n",
       "      <td>False</td>\n",
       "      <td>True</td>\n",
       "      <td>False</td>\n",
       "      <td>False</td>\n",
       "      <td>True</td>\n",
       "    </tr>\n",
       "    <tr>\n",
       "      <th>1</th>\n",
       "      <td>1</td>\n",
       "      <td>71.2833</td>\n",
       "      <td>1</td>\n",
       "      <td>0</td>\n",
       "      <td>True</td>\n",
       "      <td>False</td>\n",
       "      <td>True</td>\n",
       "      <td>False</td>\n",
       "      <td>False</td>\n",
       "    </tr>\n",
       "    <tr>\n",
       "      <th>2</th>\n",
       "      <td>3</td>\n",
       "      <td>7.9250</td>\n",
       "      <td>0</td>\n",
       "      <td>0</td>\n",
       "      <td>True</td>\n",
       "      <td>False</td>\n",
       "      <td>False</td>\n",
       "      <td>False</td>\n",
       "      <td>True</td>\n",
       "    </tr>\n",
       "    <tr>\n",
       "      <th>3</th>\n",
       "      <td>1</td>\n",
       "      <td>53.1000</td>\n",
       "      <td>1</td>\n",
       "      <td>0</td>\n",
       "      <td>True</td>\n",
       "      <td>False</td>\n",
       "      <td>False</td>\n",
       "      <td>False</td>\n",
       "      <td>True</td>\n",
       "    </tr>\n",
       "    <tr>\n",
       "      <th>4</th>\n",
       "      <td>3</td>\n",
       "      <td>8.0500</td>\n",
       "      <td>0</td>\n",
       "      <td>0</td>\n",
       "      <td>False</td>\n",
       "      <td>True</td>\n",
       "      <td>False</td>\n",
       "      <td>False</td>\n",
       "      <td>True</td>\n",
       "    </tr>\n",
       "  </tbody>\n",
       "</table>\n",
       "</div>"
      ],
      "text/plain": [
       "   Pclass     Fare  SibSp  Parch  Sex_female  Sex_male  Embarked_C  \\\n",
       "0       3   7.2500      1      0       False      True       False   \n",
       "1       1  71.2833      1      0        True     False        True   \n",
       "2       3   7.9250      0      0        True     False       False   \n",
       "3       1  53.1000      1      0        True     False       False   \n",
       "4       3   8.0500      0      0       False      True       False   \n",
       "\n",
       "   Embarked_Q  Embarked_S  \n",
       "0       False        True  \n",
       "1       False       False  \n",
       "2       False        True  \n",
       "3       False        True  \n",
       "4       False        True  "
      ]
     },
     "execution_count": 5,
     "metadata": {},
     "output_type": "execute_result"
    }
   ],
   "source": [
    "x.head()"
   ]
  },
  {
   "cell_type": "code",
   "execution_count": 6,
   "id": "3a2d7f29",
   "metadata": {
    "execution": {
     "iopub.execute_input": "2023-10-20T15:04:11.689673Z",
     "iopub.status.busy": "2023-10-20T15:04:11.689315Z",
     "iopub.status.idle": "2023-10-20T15:04:11.707334Z",
     "shell.execute_reply": "2023-10-20T15:04:11.705974Z"
    },
    "papermill": {
     "duration": 0.026488,
     "end_time": "2023-10-20T15:04:11.710351",
     "exception": false,
     "start_time": "2023-10-20T15:04:11.683863",
     "status": "completed"
    },
    "tags": []
   },
   "outputs": [],
   "source": [
    "x_train,x_test,y_train,y_test = train_test_split(x,y,test_size=0.25,stratify=x[[\"Sex_male\",\"Sex_female\",\"Pclass\"]],random_state=45)"
   ]
  },
  {
   "cell_type": "code",
   "execution_count": 7,
   "id": "48f0b0c3",
   "metadata": {
    "execution": {
     "iopub.execute_input": "2023-10-20T15:04:11.720567Z",
     "iopub.status.busy": "2023-10-20T15:04:11.720170Z",
     "iopub.status.idle": "2023-10-20T15:04:11.790355Z",
     "shell.execute_reply": "2023-10-20T15:04:11.788884Z"
    },
    "papermill": {
     "duration": 0.078448,
     "end_time": "2023-10-20T15:04:11.793207",
     "exception": false,
     "start_time": "2023-10-20T15:04:11.714759",
     "status": "completed"
    },
    "tags": []
   },
   "outputs": [
    {
     "data": {
      "text/html": [
       "<style>#sk-container-id-1 {color: black;background-color: white;}#sk-container-id-1 pre{padding: 0;}#sk-container-id-1 div.sk-toggleable {background-color: white;}#sk-container-id-1 label.sk-toggleable__label {cursor: pointer;display: block;width: 100%;margin-bottom: 0;padding: 0.3em;box-sizing: border-box;text-align: center;}#sk-container-id-1 label.sk-toggleable__label-arrow:before {content: \"▸\";float: left;margin-right: 0.25em;color: #696969;}#sk-container-id-1 label.sk-toggleable__label-arrow:hover:before {color: black;}#sk-container-id-1 div.sk-estimator:hover label.sk-toggleable__label-arrow:before {color: black;}#sk-container-id-1 div.sk-toggleable__content {max-height: 0;max-width: 0;overflow: hidden;text-align: left;background-color: #f0f8ff;}#sk-container-id-1 div.sk-toggleable__content pre {margin: 0.2em;color: black;border-radius: 0.25em;background-color: #f0f8ff;}#sk-container-id-1 input.sk-toggleable__control:checked~div.sk-toggleable__content {max-height: 200px;max-width: 100%;overflow: auto;}#sk-container-id-1 input.sk-toggleable__control:checked~label.sk-toggleable__label-arrow:before {content: \"▾\";}#sk-container-id-1 div.sk-estimator input.sk-toggleable__control:checked~label.sk-toggleable__label {background-color: #d4ebff;}#sk-container-id-1 div.sk-label input.sk-toggleable__control:checked~label.sk-toggleable__label {background-color: #d4ebff;}#sk-container-id-1 input.sk-hidden--visually {border: 0;clip: rect(1px 1px 1px 1px);clip: rect(1px, 1px, 1px, 1px);height: 1px;margin: -1px;overflow: hidden;padding: 0;position: absolute;width: 1px;}#sk-container-id-1 div.sk-estimator {font-family: monospace;background-color: #f0f8ff;border: 1px dotted black;border-radius: 0.25em;box-sizing: border-box;margin-bottom: 0.5em;}#sk-container-id-1 div.sk-estimator:hover {background-color: #d4ebff;}#sk-container-id-1 div.sk-parallel-item::after {content: \"\";width: 100%;border-bottom: 1px solid gray;flex-grow: 1;}#sk-container-id-1 div.sk-label:hover label.sk-toggleable__label {background-color: #d4ebff;}#sk-container-id-1 div.sk-serial::before {content: \"\";position: absolute;border-left: 1px solid gray;box-sizing: border-box;top: 0;bottom: 0;left: 50%;z-index: 0;}#sk-container-id-1 div.sk-serial {display: flex;flex-direction: column;align-items: center;background-color: white;padding-right: 0.2em;padding-left: 0.2em;position: relative;}#sk-container-id-1 div.sk-item {position: relative;z-index: 1;}#sk-container-id-1 div.sk-parallel {display: flex;align-items: stretch;justify-content: center;background-color: white;position: relative;}#sk-container-id-1 div.sk-item::before, #sk-container-id-1 div.sk-parallel-item::before {content: \"\";position: absolute;border-left: 1px solid gray;box-sizing: border-box;top: 0;bottom: 0;left: 50%;z-index: -1;}#sk-container-id-1 div.sk-parallel-item {display: flex;flex-direction: column;z-index: 1;position: relative;background-color: white;}#sk-container-id-1 div.sk-parallel-item:first-child::after {align-self: flex-end;width: 50%;}#sk-container-id-1 div.sk-parallel-item:last-child::after {align-self: flex-start;width: 50%;}#sk-container-id-1 div.sk-parallel-item:only-child::after {width: 0;}#sk-container-id-1 div.sk-dashed-wrapped {border: 1px dashed gray;margin: 0 0.4em 0.5em 0.4em;box-sizing: border-box;padding-bottom: 0.4em;background-color: white;}#sk-container-id-1 div.sk-label label {font-family: monospace;font-weight: bold;display: inline-block;line-height: 1.2em;}#sk-container-id-1 div.sk-label-container {text-align: center;}#sk-container-id-1 div.sk-container {/* jupyter's `normalize.less` sets `[hidden] { display: none; }` but bootstrap.min.css set `[hidden] { display: none !important; }` so we also need the `!important` here to be able to override the default hidden behavior on the sphinx rendered scikit-learn.org. See: https://github.com/scikit-learn/scikit-learn/issues/21755 */display: inline-block !important;position: relative;}#sk-container-id-1 div.sk-text-repr-fallback {display: none;}</style><div id=\"sk-container-id-1\" class=\"sk-top-container\"><div class=\"sk-text-repr-fallback\"><pre>LogisticRegression(max_iter=2000)</pre><b>In a Jupyter environment, please rerun this cell to show the HTML representation or trust the notebook. <br />On GitHub, the HTML representation is unable to render, please try loading this page with nbviewer.org.</b></div><div class=\"sk-container\" hidden><div class=\"sk-item\"><div class=\"sk-estimator sk-toggleable\"><input class=\"sk-toggleable__control sk-hidden--visually\" id=\"sk-estimator-id-1\" type=\"checkbox\" checked><label for=\"sk-estimator-id-1\" class=\"sk-toggleable__label sk-toggleable__label-arrow\">LogisticRegression</label><div class=\"sk-toggleable__content\"><pre>LogisticRegression(max_iter=2000)</pre></div></div></div></div></div>"
      ],
      "text/plain": [
       "LogisticRegression(max_iter=2000)"
      ]
     },
     "execution_count": 7,
     "metadata": {},
     "output_type": "execute_result"
    }
   ],
   "source": [
    "lregr = LogisticRegression(max_iter=2000)\n",
    "lregr.fit(x,y)"
   ]
  },
  {
   "cell_type": "code",
   "execution_count": 8,
   "id": "f8a767e0",
   "metadata": {
    "execution": {
     "iopub.execute_input": "2023-10-20T15:04:11.804399Z",
     "iopub.status.busy": "2023-10-20T15:04:11.803775Z",
     "iopub.status.idle": "2023-10-20T15:04:11.819337Z",
     "shell.execute_reply": "2023-10-20T15:04:11.818034Z"
    },
    "papermill": {
     "duration": 0.024118,
     "end_time": "2023-10-20T15:04:11.821942",
     "exception": false,
     "start_time": "2023-10-20T15:04:11.797824",
     "status": "completed"
    },
    "tags": []
   },
   "outputs": [],
   "source": [
    "test = pd.read_csv(\"/kaggle/input/titanic/test.csv\")\n",
    "test = pd.get_dummies(test[feat])"
   ]
  },
  {
   "cell_type": "code",
   "execution_count": 9,
   "id": "0bf49d83",
   "metadata": {
    "execution": {
     "iopub.execute_input": "2023-10-20T15:04:11.832471Z",
     "iopub.status.busy": "2023-10-20T15:04:11.832106Z",
     "iopub.status.idle": "2023-10-20T15:04:11.846275Z",
     "shell.execute_reply": "2023-10-20T15:04:11.844689Z"
    },
    "papermill": {
     "duration": 0.022301,
     "end_time": "2023-10-20T15:04:11.848672",
     "exception": false,
     "start_time": "2023-10-20T15:04:11.826371",
     "status": "completed"
    },
    "tags": []
   },
   "outputs": [],
   "source": [
    "mean_fare_by_pclass = test.groupby(\"Pclass\")[\"Fare\"].transform(\"mean\")\n",
    "\n",
    "# Use the calculated means to fill missing values in the Fare column\n",
    "test[\"Fare\"].fillna(mean_fare_by_pclass, inplace=True)"
   ]
  },
  {
   "cell_type": "code",
   "execution_count": 10,
   "id": "48af8f70",
   "metadata": {
    "execution": {
     "iopub.execute_input": "2023-10-20T15:04:11.860557Z",
     "iopub.status.busy": "2023-10-20T15:04:11.860147Z",
     "iopub.status.idle": "2023-10-20T15:04:11.869677Z",
     "shell.execute_reply": "2023-10-20T15:04:11.868585Z"
    },
    "papermill": {
     "duration": 0.017247,
     "end_time": "2023-10-20T15:04:11.871591",
     "exception": false,
     "start_time": "2023-10-20T15:04:11.854344",
     "status": "completed"
    },
    "tags": []
   },
   "outputs": [
    {
     "data": {
      "text/plain": [
       "Pclass        0\n",
       "Fare          0\n",
       "SibSp         0\n",
       "Parch         0\n",
       "Sex_female    0\n",
       "Sex_male      0\n",
       "Embarked_C    0\n",
       "Embarked_Q    0\n",
       "Embarked_S    0\n",
       "dtype: int64"
      ]
     },
     "execution_count": 10,
     "metadata": {},
     "output_type": "execute_result"
    }
   ],
   "source": [
    "test.isna().sum()"
   ]
  },
  {
   "cell_type": "code",
   "execution_count": 11,
   "id": "4aaaf860",
   "metadata": {
    "execution": {
     "iopub.execute_input": "2023-10-20T15:04:11.882265Z",
     "iopub.status.busy": "2023-10-20T15:04:11.881883Z",
     "iopub.status.idle": "2023-10-20T15:04:11.890545Z",
     "shell.execute_reply": "2023-10-20T15:04:11.888932Z"
    },
    "papermill": {
     "duration": 0.016834,
     "end_time": "2023-10-20T15:04:11.892812",
     "exception": false,
     "start_time": "2023-10-20T15:04:11.875978",
     "status": "completed"
    },
    "tags": []
   },
   "outputs": [],
   "source": [
    "preds = lregr.predict(test)"
   ]
  },
  {
   "cell_type": "code",
   "execution_count": 12,
   "id": "980b42c2",
   "metadata": {
    "execution": {
     "iopub.execute_input": "2023-10-20T15:04:11.903920Z",
     "iopub.status.busy": "2023-10-20T15:04:11.903462Z",
     "iopub.status.idle": "2023-10-20T15:04:11.910940Z",
     "shell.execute_reply": "2023-10-20T15:04:11.909568Z"
    },
    "papermill": {
     "duration": 0.015743,
     "end_time": "2023-10-20T15:04:11.913281",
     "exception": false,
     "start_time": "2023-10-20T15:04:11.897538",
     "status": "completed"
    },
    "tags": []
   },
   "outputs": [
    {
     "data": {
      "text/plain": [
       "(418,)"
      ]
     },
     "execution_count": 12,
     "metadata": {},
     "output_type": "execute_result"
    }
   ],
   "source": [
    "preds.shape"
   ]
  },
  {
   "cell_type": "code",
   "execution_count": 13,
   "id": "60847046",
   "metadata": {
    "execution": {
     "iopub.execute_input": "2023-10-20T15:04:11.924853Z",
     "iopub.status.busy": "2023-10-20T15:04:11.924394Z",
     "iopub.status.idle": "2023-10-20T15:04:11.934817Z",
     "shell.execute_reply": "2023-10-20T15:04:11.933483Z"
    },
    "papermill": {
     "duration": 0.018987,
     "end_time": "2023-10-20T15:04:11.937000",
     "exception": false,
     "start_time": "2023-10-20T15:04:11.918013",
     "status": "completed"
    },
    "tags": []
   },
   "outputs": [
    {
     "data": {
      "text/plain": [
       "(418, 11)"
      ]
     },
     "execution_count": 13,
     "metadata": {},
     "output_type": "execute_result"
    }
   ],
   "source": [
    "x = pd.read_csv(r\"/kaggle/input/titanic/test.csv\")\n",
    "x.shape"
   ]
  },
  {
   "cell_type": "code",
   "execution_count": 14,
   "id": "ed6f3ad4",
   "metadata": {
    "execution": {
     "iopub.execute_input": "2023-10-20T15:04:11.949058Z",
     "iopub.status.busy": "2023-10-20T15:04:11.948695Z",
     "iopub.status.idle": "2023-10-20T15:04:11.956914Z",
     "shell.execute_reply": "2023-10-20T15:04:11.955680Z"
    },
    "papermill": {
     "duration": 0.016929,
     "end_time": "2023-10-20T15:04:11.958932",
     "exception": false,
     "start_time": "2023-10-20T15:04:11.942003",
     "status": "completed"
    },
    "tags": []
   },
   "outputs": [
    {
     "name": "stdout",
     "output_type": "stream",
     "text": [
      "   PassengerId  Survived\n",
      "0          892         0\n",
      "1          893         1\n",
      "2          894         0\n",
      "3          895         0\n",
      "4          896         1\n"
     ]
    }
   ],
   "source": [
    "new_df = pd.DataFrame({'PassengerId': x['PassengerId']})\n",
    "\n",
    "# Add the 'Survived' column from the 'preds' variable\n",
    "new_df['Survived'] = preds\n",
    "\n",
    "# Display the first few rows of the new DataFrame\n",
    "print(new_df.head())"
   ]
  },
  {
   "cell_type": "code",
   "execution_count": 15,
   "id": "0709622b",
   "metadata": {
    "execution": {
     "iopub.execute_input": "2023-10-20T15:04:11.970988Z",
     "iopub.status.busy": "2023-10-20T15:04:11.970361Z",
     "iopub.status.idle": "2023-10-20T15:04:11.977856Z",
     "shell.execute_reply": "2023-10-20T15:04:11.977126Z"
    },
    "papermill": {
     "duration": 0.016385,
     "end_time": "2023-10-20T15:04:11.980128",
     "exception": false,
     "start_time": "2023-10-20T15:04:11.963743",
     "status": "completed"
    },
    "tags": []
   },
   "outputs": [],
   "source": [
    "new_df.to_csv('/kaggle/working/submission8.csv', index=False)\n"
   ]
  }
 ],
 "metadata": {
  "kernelspec": {
   "display_name": "Python 3",
   "language": "python",
   "name": "python3"
  },
  "language_info": {
   "codemirror_mode": {
    "name": "ipython",
    "version": 3
   },
   "file_extension": ".py",
   "mimetype": "text/x-python",
   "name": "python",
   "nbconvert_exporter": "python",
   "pygments_lexer": "ipython3",
   "version": "3.10.12"
  },
  "papermill": {
   "default_parameters": {},
   "duration": 7.179668,
   "end_time": "2023-10-20T15:04:12.706969",
   "environment_variables": {},
   "exception": null,
   "input_path": "__notebook__.ipynb",
   "output_path": "__notebook__.ipynb",
   "parameters": {},
   "start_time": "2023-10-20T15:04:05.527301",
   "version": "2.4.0"
  }
 },
 "nbformat": 4,
 "nbformat_minor": 5
}
